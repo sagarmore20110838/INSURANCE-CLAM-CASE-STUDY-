{
 "cells": [
  {
   "cell_type": "code",
   "execution_count": 1,
   "id": "3cac88ee",
   "metadata": {},
   "outputs": [],
   "source": [
    "import pandas as pd \n",
    "\n",
    "import numpy as np \n",
    "\n",
    "import matplotlib.pyplot as plt \n",
    "\n",
    "import scipy.stats as ss "
   ]
  },
  {
   "cell_type": "code",
   "execution_count": 2,
   "id": "be5165c1",
   "metadata": {},
   "outputs": [],
   "source": [
    "claims = pd.read_csv(r\"C:\\Users\\ACER\\Downloads\\python assingments\\Python Foundation Case Study 3 - Insurance Claims Case Study\\claims.csv\")\n",
    "cust_demo = pd.read_csv(r\"C:\\Users\\ACER\\Downloads\\python assingments\\Python Foundation Case Study 3 - Insurance Claims Case Study\\cust_demographics.csv\")"
   ]
  },
  {
   "cell_type": "code",
   "execution_count": 3,
   "id": "235908e1",
   "metadata": {},
   "outputs": [
    {
     "data": {
      "text/html": [
       "<div>\n",
       "<style scoped>\n",
       "    .dataframe tbody tr th:only-of-type {\n",
       "        vertical-align: middle;\n",
       "    }\n",
       "\n",
       "    .dataframe tbody tr th {\n",
       "        vertical-align: top;\n",
       "    }\n",
       "\n",
       "    .dataframe thead th {\n",
       "        text-align: right;\n",
       "    }\n",
       "</style>\n",
       "<table border=\"1\" class=\"dataframe\">\n",
       "  <thead>\n",
       "    <tr style=\"text-align: right;\">\n",
       "      <th></th>\n",
       "      <th>claim_id</th>\n",
       "      <th>customer_id</th>\n",
       "      <th>incident_cause</th>\n",
       "      <th>claim_date</th>\n",
       "      <th>claim_area</th>\n",
       "      <th>police_report</th>\n",
       "      <th>claim_type</th>\n",
       "      <th>claim_amount</th>\n",
       "      <th>total_policy_claims</th>\n",
       "      <th>fraudulent</th>\n",
       "    </tr>\n",
       "  </thead>\n",
       "  <tbody>\n",
       "    <tr>\n",
       "      <th>0</th>\n",
       "      <td>54004764</td>\n",
       "      <td>21868593</td>\n",
       "      <td>Driver error</td>\n",
       "      <td>11/27/2017</td>\n",
       "      <td>Auto</td>\n",
       "      <td>No</td>\n",
       "      <td>Material only</td>\n",
       "      <td>$2980</td>\n",
       "      <td>1.0</td>\n",
       "      <td>No</td>\n",
       "    </tr>\n",
       "    <tr>\n",
       "      <th>1</th>\n",
       "      <td>33985796</td>\n",
       "      <td>75740424</td>\n",
       "      <td>Crime</td>\n",
       "      <td>10/03/2018</td>\n",
       "      <td>Home</td>\n",
       "      <td>Unknown</td>\n",
       "      <td>Material only</td>\n",
       "      <td>$2980</td>\n",
       "      <td>3.0</td>\n",
       "      <td>No</td>\n",
       "    </tr>\n",
       "    <tr>\n",
       "      <th>2</th>\n",
       "      <td>53522022</td>\n",
       "      <td>30308357</td>\n",
       "      <td>Other driver error</td>\n",
       "      <td>02/02/2018</td>\n",
       "      <td>Auto</td>\n",
       "      <td>No</td>\n",
       "      <td>Material only</td>\n",
       "      <td>$3369.5</td>\n",
       "      <td>1.0</td>\n",
       "      <td>Yes</td>\n",
       "    </tr>\n",
       "    <tr>\n",
       "      <th>3</th>\n",
       "      <td>13015401</td>\n",
       "      <td>47830476</td>\n",
       "      <td>Natural causes</td>\n",
       "      <td>06/17/2018</td>\n",
       "      <td>Auto</td>\n",
       "      <td>No</td>\n",
       "      <td>Material only</td>\n",
       "      <td>$1680</td>\n",
       "      <td>1.0</td>\n",
       "      <td>No</td>\n",
       "    </tr>\n",
       "    <tr>\n",
       "      <th>4</th>\n",
       "      <td>22890252</td>\n",
       "      <td>19269962</td>\n",
       "      <td>Crime</td>\n",
       "      <td>01/13/2018</td>\n",
       "      <td>Auto</td>\n",
       "      <td>No</td>\n",
       "      <td>Material only</td>\n",
       "      <td>$2680</td>\n",
       "      <td>1.0</td>\n",
       "      <td>No</td>\n",
       "    </tr>\n",
       "    <tr>\n",
       "      <th>...</th>\n",
       "      <td>...</td>\n",
       "      <td>...</td>\n",
       "      <td>...</td>\n",
       "      <td>...</td>\n",
       "      <td>...</td>\n",
       "      <td>...</td>\n",
       "      <td>...</td>\n",
       "      <td>...</td>\n",
       "      <td>...</td>\n",
       "      <td>...</td>\n",
       "    </tr>\n",
       "    <tr>\n",
       "      <th>1095</th>\n",
       "      <td>97727122</td>\n",
       "      <td>35951012</td>\n",
       "      <td>Other driver error</td>\n",
       "      <td>06/11/2017</td>\n",
       "      <td>Auto</td>\n",
       "      <td>No</td>\n",
       "      <td>Material only</td>\n",
       "      <td>$3059</td>\n",
       "      <td>4.0</td>\n",
       "      <td>Yes</td>\n",
       "    </tr>\n",
       "    <tr>\n",
       "      <th>1096</th>\n",
       "      <td>10247193</td>\n",
       "      <td>14818669</td>\n",
       "      <td>Natural causes</td>\n",
       "      <td>03/14/2018</td>\n",
       "      <td>Auto</td>\n",
       "      <td>No</td>\n",
       "      <td>Material only</td>\n",
       "      <td>$1520</td>\n",
       "      <td>2.0</td>\n",
       "      <td>No</td>\n",
       "    </tr>\n",
       "    <tr>\n",
       "      <th>1097</th>\n",
       "      <td>79807493</td>\n",
       "      <td>85322831</td>\n",
       "      <td>Other driver error</td>\n",
       "      <td>02/09/2018</td>\n",
       "      <td>Auto</td>\n",
       "      <td>No</td>\n",
       "      <td>Material and injury</td>\n",
       "      <td>$23575</td>\n",
       "      <td>2.0</td>\n",
       "      <td>Yes</td>\n",
       "    </tr>\n",
       "    <tr>\n",
       "      <th>1098</th>\n",
       "      <td>69299345</td>\n",
       "      <td>73449366</td>\n",
       "      <td>Other causes</td>\n",
       "      <td>03/21/2018</td>\n",
       "      <td>Auto</td>\n",
       "      <td>Unknown</td>\n",
       "      <td>Material and injury</td>\n",
       "      <td>$25120</td>\n",
       "      <td>1.0</td>\n",
       "      <td>No</td>\n",
       "    </tr>\n",
       "    <tr>\n",
       "      <th>1099</th>\n",
       "      <td>58809728</td>\n",
       "      <td>43020876</td>\n",
       "      <td>Other driver error</td>\n",
       "      <td>06/04/2017</td>\n",
       "      <td>Auto</td>\n",
       "      <td>Yes</td>\n",
       "      <td>Material and injury</td>\n",
       "      <td>$36685</td>\n",
       "      <td>3.0</td>\n",
       "      <td>Yes</td>\n",
       "    </tr>\n",
       "  </tbody>\n",
       "</table>\n",
       "<p>1100 rows × 10 columns</p>\n",
       "</div>"
      ],
      "text/plain": [
       "      claim_id  customer_id      incident_cause  claim_date claim_area  \\\n",
       "0     54004764     21868593        Driver error  11/27/2017       Auto   \n",
       "1     33985796     75740424               Crime  10/03/2018       Home   \n",
       "2     53522022     30308357  Other driver error  02/02/2018       Auto   \n",
       "3     13015401     47830476      Natural causes  06/17/2018       Auto   \n",
       "4     22890252     19269962               Crime  01/13/2018       Auto   \n",
       "...        ...          ...                 ...         ...        ...   \n",
       "1095  97727122     35951012  Other driver error  06/11/2017       Auto   \n",
       "1096  10247193     14818669      Natural causes  03/14/2018       Auto   \n",
       "1097  79807493     85322831  Other driver error  02/09/2018       Auto   \n",
       "1098  69299345     73449366        Other causes  03/21/2018       Auto   \n",
       "1099  58809728     43020876  Other driver error  06/04/2017       Auto   \n",
       "\n",
       "     police_report           claim_type claim_amount  total_policy_claims  \\\n",
       "0               No        Material only        $2980                  1.0   \n",
       "1          Unknown        Material only        $2980                  3.0   \n",
       "2               No        Material only      $3369.5                  1.0   \n",
       "3               No        Material only        $1680                  1.0   \n",
       "4               No        Material only        $2680                  1.0   \n",
       "...            ...                  ...          ...                  ...   \n",
       "1095            No        Material only        $3059                  4.0   \n",
       "1096            No        Material only        $1520                  2.0   \n",
       "1097            No  Material and injury       $23575                  2.0   \n",
       "1098       Unknown  Material and injury       $25120                  1.0   \n",
       "1099           Yes  Material and injury       $36685                  3.0   \n",
       "\n",
       "     fraudulent  \n",
       "0            No  \n",
       "1            No  \n",
       "2           Yes  \n",
       "3            No  \n",
       "4            No  \n",
       "...         ...  \n",
       "1095        Yes  \n",
       "1096         No  \n",
       "1097        Yes  \n",
       "1098         No  \n",
       "1099        Yes  \n",
       "\n",
       "[1100 rows x 10 columns]"
      ]
     },
     "execution_count": 3,
     "metadata": {},
     "output_type": "execute_result"
    }
   ],
   "source": [
    "claims"
   ]
  },
  {
   "cell_type": "code",
   "execution_count": 4,
   "id": "9b4671f1",
   "metadata": {},
   "outputs": [
    {
     "data": {
      "text/html": [
       "<div>\n",
       "<style scoped>\n",
       "    .dataframe tbody tr th:only-of-type {\n",
       "        vertical-align: middle;\n",
       "    }\n",
       "\n",
       "    .dataframe tbody tr th {\n",
       "        vertical-align: top;\n",
       "    }\n",
       "\n",
       "    .dataframe thead th {\n",
       "        text-align: right;\n",
       "    }\n",
       "</style>\n",
       "<table border=\"1\" class=\"dataframe\">\n",
       "  <thead>\n",
       "    <tr style=\"text-align: right;\">\n",
       "      <th></th>\n",
       "      <th>CUST_ID</th>\n",
       "      <th>gender</th>\n",
       "      <th>DateOfBirth</th>\n",
       "      <th>State</th>\n",
       "      <th>Contact</th>\n",
       "      <th>Segment</th>\n",
       "    </tr>\n",
       "  </thead>\n",
       "  <tbody>\n",
       "    <tr>\n",
       "      <th>0</th>\n",
       "      <td>21868593</td>\n",
       "      <td>Female</td>\n",
       "      <td>12-Jan-79</td>\n",
       "      <td>VT</td>\n",
       "      <td>789-916-8172</td>\n",
       "      <td>Platinum</td>\n",
       "    </tr>\n",
       "    <tr>\n",
       "      <th>1</th>\n",
       "      <td>75740424</td>\n",
       "      <td>Female</td>\n",
       "      <td>13-Jan-70</td>\n",
       "      <td>ME</td>\n",
       "      <td>265-543-1264</td>\n",
       "      <td>Silver</td>\n",
       "    </tr>\n",
       "    <tr>\n",
       "      <th>2</th>\n",
       "      <td>30308357</td>\n",
       "      <td>Female</td>\n",
       "      <td>11-Mar-84</td>\n",
       "      <td>TN</td>\n",
       "      <td>798-631-4758</td>\n",
       "      <td>Silver</td>\n",
       "    </tr>\n",
       "    <tr>\n",
       "      <th>3</th>\n",
       "      <td>47830476</td>\n",
       "      <td>Female</td>\n",
       "      <td>01-May-86</td>\n",
       "      <td>MA</td>\n",
       "      <td>413-187-7945</td>\n",
       "      <td>Silver</td>\n",
       "    </tr>\n",
       "    <tr>\n",
       "      <th>4</th>\n",
       "      <td>19269962</td>\n",
       "      <td>Male</td>\n",
       "      <td>13-May-77</td>\n",
       "      <td>NV</td>\n",
       "      <td>956-871-8691</td>\n",
       "      <td>Gold</td>\n",
       "    </tr>\n",
       "    <tr>\n",
       "      <th>...</th>\n",
       "      <td>...</td>\n",
       "      <td>...</td>\n",
       "      <td>...</td>\n",
       "      <td>...</td>\n",
       "      <td>...</td>\n",
       "      <td>...</td>\n",
       "    </tr>\n",
       "    <tr>\n",
       "      <th>1080</th>\n",
       "      <td>79539873</td>\n",
       "      <td>Female</td>\n",
       "      <td>15-Mar-81</td>\n",
       "      <td>ND</td>\n",
       "      <td>459-425-4319</td>\n",
       "      <td>Platinum</td>\n",
       "    </tr>\n",
       "    <tr>\n",
       "      <th>1081</th>\n",
       "      <td>42364152</td>\n",
       "      <td>Female</td>\n",
       "      <td>07-Jul-96</td>\n",
       "      <td>ID</td>\n",
       "      <td>529-462-1635</td>\n",
       "      <td>Silver</td>\n",
       "    </tr>\n",
       "    <tr>\n",
       "      <th>1082</th>\n",
       "      <td>19888166</td>\n",
       "      <td>Male</td>\n",
       "      <td>11-Apr-90</td>\n",
       "      <td>WI</td>\n",
       "      <td>712-651-9613</td>\n",
       "      <td>Gold</td>\n",
       "    </tr>\n",
       "    <tr>\n",
       "      <th>1083</th>\n",
       "      <td>11256802</td>\n",
       "      <td>Female</td>\n",
       "      <td>22-Oct-64</td>\n",
       "      <td>LA</td>\n",
       "      <td>469-345-5617</td>\n",
       "      <td>Silver</td>\n",
       "    </tr>\n",
       "    <tr>\n",
       "      <th>1084</th>\n",
       "      <td>61575264</td>\n",
       "      <td>Male</td>\n",
       "      <td>12-Jul-95</td>\n",
       "      <td>WY</td>\n",
       "      <td>182-385-1392</td>\n",
       "      <td>Gold</td>\n",
       "    </tr>\n",
       "  </tbody>\n",
       "</table>\n",
       "<p>1085 rows × 6 columns</p>\n",
       "</div>"
      ],
      "text/plain": [
       "       CUST_ID  gender DateOfBirth State       Contact   Segment\n",
       "0     21868593  Female   12-Jan-79    VT  789-916-8172  Platinum\n",
       "1     75740424  Female   13-Jan-70    ME  265-543-1264    Silver\n",
       "2     30308357  Female   11-Mar-84    TN  798-631-4758    Silver\n",
       "3     47830476  Female   01-May-86    MA  413-187-7945    Silver\n",
       "4     19269962    Male   13-May-77    NV  956-871-8691      Gold\n",
       "...        ...     ...         ...   ...           ...       ...\n",
       "1080  79539873  Female   15-Mar-81    ND  459-425-4319  Platinum\n",
       "1081  42364152  Female   07-Jul-96    ID  529-462-1635    Silver\n",
       "1082  19888166    Male   11-Apr-90    WI  712-651-9613      Gold\n",
       "1083  11256802  Female   22-Oct-64    LA  469-345-5617    Silver\n",
       "1084  61575264    Male   12-Jul-95    WY  182-385-1392      Gold\n",
       "\n",
       "[1085 rows x 6 columns]"
      ]
     },
     "execution_count": 4,
     "metadata": {},
     "output_type": "execute_result"
    }
   ],
   "source": [
    "cust_demo"
   ]
  },
  {
   "cell_type": "code",
   "execution_count": 5,
   "id": "f5565cb6",
   "metadata": {},
   "outputs": [],
   "source": [
    "final = pd.merge(left=cust_demo, right=claims, how=\"inner\", left_on=\"CUST_ID\", right_on=\"customer_id\" )"
   ]
  },
  {
   "cell_type": "code",
   "execution_count": 6,
   "id": "5820d7ed",
   "metadata": {},
   "outputs": [],
   "source": [
    "final.drop({\"customer_id\"}, axis=1, inplace=True)\n"
   ]
  },
  {
   "cell_type": "code",
   "execution_count": 7,
   "id": "398b7bc9",
   "metadata": {},
   "outputs": [],
   "source": [
    "final.rename({\"CUST_ID\":\"customer_id\"}, axis=1, inplace=True)"
   ]
  },
  {
   "cell_type": "markdown",
   "id": "111fdfd3",
   "metadata": {},
   "source": [
    "## 1. Import claims_data.csv and cust_data.csv which is provided to you and combine the two datasets appropriately to create a 360-degree view of the data. Use the same for the subsequent questions."
   ]
  },
  {
   "cell_type": "code",
   "execution_count": 8,
   "id": "d222ed5b",
   "metadata": {},
   "outputs": [
    {
     "data": {
      "text/html": [
       "<div>\n",
       "<style scoped>\n",
       "    .dataframe tbody tr th:only-of-type {\n",
       "        vertical-align: middle;\n",
       "    }\n",
       "\n",
       "    .dataframe tbody tr th {\n",
       "        vertical-align: top;\n",
       "    }\n",
       "\n",
       "    .dataframe thead th {\n",
       "        text-align: right;\n",
       "    }\n",
       "</style>\n",
       "<table border=\"1\" class=\"dataframe\">\n",
       "  <thead>\n",
       "    <tr style=\"text-align: right;\">\n",
       "      <th></th>\n",
       "      <th>customer_id</th>\n",
       "      <th>gender</th>\n",
       "      <th>DateOfBirth</th>\n",
       "      <th>State</th>\n",
       "      <th>Contact</th>\n",
       "      <th>Segment</th>\n",
       "      <th>claim_id</th>\n",
       "      <th>incident_cause</th>\n",
       "      <th>claim_date</th>\n",
       "      <th>claim_area</th>\n",
       "      <th>police_report</th>\n",
       "      <th>claim_type</th>\n",
       "      <th>claim_amount</th>\n",
       "      <th>total_policy_claims</th>\n",
       "      <th>fraudulent</th>\n",
       "    </tr>\n",
       "  </thead>\n",
       "  <tbody>\n",
       "    <tr>\n",
       "      <th>0</th>\n",
       "      <td>21868593</td>\n",
       "      <td>Female</td>\n",
       "      <td>12-Jan-79</td>\n",
       "      <td>VT</td>\n",
       "      <td>789-916-8172</td>\n",
       "      <td>Platinum</td>\n",
       "      <td>54004764</td>\n",
       "      <td>Driver error</td>\n",
       "      <td>11/27/2017</td>\n",
       "      <td>Auto</td>\n",
       "      <td>No</td>\n",
       "      <td>Material only</td>\n",
       "      <td>$2980</td>\n",
       "      <td>1.0</td>\n",
       "      <td>No</td>\n",
       "    </tr>\n",
       "    <tr>\n",
       "      <th>1</th>\n",
       "      <td>75740424</td>\n",
       "      <td>Female</td>\n",
       "      <td>13-Jan-70</td>\n",
       "      <td>ME</td>\n",
       "      <td>265-543-1264</td>\n",
       "      <td>Silver</td>\n",
       "      <td>33985796</td>\n",
       "      <td>Crime</td>\n",
       "      <td>10/03/2018</td>\n",
       "      <td>Home</td>\n",
       "      <td>Unknown</td>\n",
       "      <td>Material only</td>\n",
       "      <td>$2980</td>\n",
       "      <td>3.0</td>\n",
       "      <td>No</td>\n",
       "    </tr>\n",
       "    <tr>\n",
       "      <th>2</th>\n",
       "      <td>30308357</td>\n",
       "      <td>Female</td>\n",
       "      <td>11-Mar-84</td>\n",
       "      <td>TN</td>\n",
       "      <td>798-631-4758</td>\n",
       "      <td>Silver</td>\n",
       "      <td>53522022</td>\n",
       "      <td>Other driver error</td>\n",
       "      <td>02/02/2018</td>\n",
       "      <td>Auto</td>\n",
       "      <td>No</td>\n",
       "      <td>Material only</td>\n",
       "      <td>$3369.5</td>\n",
       "      <td>1.0</td>\n",
       "      <td>Yes</td>\n",
       "    </tr>\n",
       "    <tr>\n",
       "      <th>3</th>\n",
       "      <td>30308357</td>\n",
       "      <td>Female</td>\n",
       "      <td>11-Mar-84</td>\n",
       "      <td>TN</td>\n",
       "      <td>798-631-4758</td>\n",
       "      <td>Silver</td>\n",
       "      <td>63017412</td>\n",
       "      <td>Driver error</td>\n",
       "      <td>04/04/2018</td>\n",
       "      <td>Auto</td>\n",
       "      <td>No</td>\n",
       "      <td>Material only</td>\n",
       "      <td>$1950</td>\n",
       "      <td>6.0</td>\n",
       "      <td>No</td>\n",
       "    </tr>\n",
       "    <tr>\n",
       "      <th>4</th>\n",
       "      <td>47830476</td>\n",
       "      <td>Female</td>\n",
       "      <td>01-May-86</td>\n",
       "      <td>MA</td>\n",
       "      <td>413-187-7945</td>\n",
       "      <td>Silver</td>\n",
       "      <td>13015401</td>\n",
       "      <td>Natural causes</td>\n",
       "      <td>06/17/2018</td>\n",
       "      <td>Auto</td>\n",
       "      <td>No</td>\n",
       "      <td>Material only</td>\n",
       "      <td>$1680</td>\n",
       "      <td>1.0</td>\n",
       "      <td>No</td>\n",
       "    </tr>\n",
       "    <tr>\n",
       "      <th>...</th>\n",
       "      <td>...</td>\n",
       "      <td>...</td>\n",
       "      <td>...</td>\n",
       "      <td>...</td>\n",
       "      <td>...</td>\n",
       "      <td>...</td>\n",
       "      <td>...</td>\n",
       "      <td>...</td>\n",
       "      <td>...</td>\n",
       "      <td>...</td>\n",
       "      <td>...</td>\n",
       "      <td>...</td>\n",
       "      <td>...</td>\n",
       "      <td>...</td>\n",
       "      <td>...</td>\n",
       "    </tr>\n",
       "    <tr>\n",
       "      <th>1080</th>\n",
       "      <td>79539873</td>\n",
       "      <td>Female</td>\n",
       "      <td>15-Mar-81</td>\n",
       "      <td>ND</td>\n",
       "      <td>459-425-4319</td>\n",
       "      <td>Platinum</td>\n",
       "      <td>62020796</td>\n",
       "      <td>Other driver error</td>\n",
       "      <td>09/06/2018</td>\n",
       "      <td>Auto</td>\n",
       "      <td>Yes</td>\n",
       "      <td>Material only</td>\n",
       "      <td>$1770</td>\n",
       "      <td>1.0</td>\n",
       "      <td>No</td>\n",
       "    </tr>\n",
       "    <tr>\n",
       "      <th>1081</th>\n",
       "      <td>42364152</td>\n",
       "      <td>Female</td>\n",
       "      <td>07-Jul-96</td>\n",
       "      <td>ID</td>\n",
       "      <td>529-462-1635</td>\n",
       "      <td>Silver</td>\n",
       "      <td>63269067</td>\n",
       "      <td>Other causes</td>\n",
       "      <td>05/09/2017</td>\n",
       "      <td>Home</td>\n",
       "      <td>No</td>\n",
       "      <td>Material only</td>\n",
       "      <td>$2800</td>\n",
       "      <td>1.0</td>\n",
       "      <td>No</td>\n",
       "    </tr>\n",
       "    <tr>\n",
       "      <th>1082</th>\n",
       "      <td>19888166</td>\n",
       "      <td>Male</td>\n",
       "      <td>11-Apr-90</td>\n",
       "      <td>WI</td>\n",
       "      <td>712-651-9613</td>\n",
       "      <td>Gold</td>\n",
       "      <td>22690595</td>\n",
       "      <td>Other driver error</td>\n",
       "      <td>05/15/2017</td>\n",
       "      <td>Auto</td>\n",
       "      <td>Yes</td>\n",
       "      <td>Injury only</td>\n",
       "      <td>$33080</td>\n",
       "      <td>2.0</td>\n",
       "      <td>No</td>\n",
       "    </tr>\n",
       "    <tr>\n",
       "      <th>1083</th>\n",
       "      <td>11256802</td>\n",
       "      <td>Female</td>\n",
       "      <td>22-Oct-64</td>\n",
       "      <td>LA</td>\n",
       "      <td>469-345-5617</td>\n",
       "      <td>Silver</td>\n",
       "      <td>12376894</td>\n",
       "      <td>Other driver error</td>\n",
       "      <td>04/18/2017</td>\n",
       "      <td>Auto</td>\n",
       "      <td>No</td>\n",
       "      <td>Material only</td>\n",
       "      <td>$2840</td>\n",
       "      <td>4.0</td>\n",
       "      <td>No</td>\n",
       "    </tr>\n",
       "    <tr>\n",
       "      <th>1084</th>\n",
       "      <td>61575264</td>\n",
       "      <td>Male</td>\n",
       "      <td>12-Jul-95</td>\n",
       "      <td>WY</td>\n",
       "      <td>182-385-1392</td>\n",
       "      <td>Gold</td>\n",
       "      <td>63226031</td>\n",
       "      <td>Natural causes</td>\n",
       "      <td>03/16/2017</td>\n",
       "      <td>Auto</td>\n",
       "      <td>No</td>\n",
       "      <td>Material only</td>\n",
       "      <td>$1490</td>\n",
       "      <td>1.0</td>\n",
       "      <td>No</td>\n",
       "    </tr>\n",
       "  </tbody>\n",
       "</table>\n",
       "<p>1085 rows × 15 columns</p>\n",
       "</div>"
      ],
      "text/plain": [
       "      customer_id  gender DateOfBirth State       Contact   Segment  claim_id  \\\n",
       "0        21868593  Female   12-Jan-79    VT  789-916-8172  Platinum  54004764   \n",
       "1        75740424  Female   13-Jan-70    ME  265-543-1264    Silver  33985796   \n",
       "2        30308357  Female   11-Mar-84    TN  798-631-4758    Silver  53522022   \n",
       "3        30308357  Female   11-Mar-84    TN  798-631-4758    Silver  63017412   \n",
       "4        47830476  Female   01-May-86    MA  413-187-7945    Silver  13015401   \n",
       "...           ...     ...         ...   ...           ...       ...       ...   \n",
       "1080     79539873  Female   15-Mar-81    ND  459-425-4319  Platinum  62020796   \n",
       "1081     42364152  Female   07-Jul-96    ID  529-462-1635    Silver  63269067   \n",
       "1082     19888166    Male   11-Apr-90    WI  712-651-9613      Gold  22690595   \n",
       "1083     11256802  Female   22-Oct-64    LA  469-345-5617    Silver  12376894   \n",
       "1084     61575264    Male   12-Jul-95    WY  182-385-1392      Gold  63226031   \n",
       "\n",
       "          incident_cause  claim_date claim_area police_report     claim_type  \\\n",
       "0           Driver error  11/27/2017       Auto            No  Material only   \n",
       "1                  Crime  10/03/2018       Home       Unknown  Material only   \n",
       "2     Other driver error  02/02/2018       Auto            No  Material only   \n",
       "3           Driver error  04/04/2018       Auto            No  Material only   \n",
       "4         Natural causes  06/17/2018       Auto            No  Material only   \n",
       "...                  ...         ...        ...           ...            ...   \n",
       "1080  Other driver error  09/06/2018       Auto           Yes  Material only   \n",
       "1081        Other causes  05/09/2017       Home            No  Material only   \n",
       "1082  Other driver error  05/15/2017       Auto           Yes    Injury only   \n",
       "1083  Other driver error  04/18/2017       Auto            No  Material only   \n",
       "1084      Natural causes  03/16/2017       Auto            No  Material only   \n",
       "\n",
       "     claim_amount  total_policy_claims fraudulent  \n",
       "0           $2980                  1.0         No  \n",
       "1           $2980                  3.0         No  \n",
       "2         $3369.5                  1.0        Yes  \n",
       "3           $1950                  6.0         No  \n",
       "4           $1680                  1.0         No  \n",
       "...           ...                  ...        ...  \n",
       "1080        $1770                  1.0         No  \n",
       "1081        $2800                  1.0         No  \n",
       "1082       $33080                  2.0         No  \n",
       "1083        $2840                  4.0         No  \n",
       "1084        $1490                  1.0         No  \n",
       "\n",
       "[1085 rows x 15 columns]"
      ]
     },
     "execution_count": 8,
     "metadata": {},
     "output_type": "execute_result"
    }
   ],
   "source": [
    "final"
   ]
  },
  {
   "cell_type": "markdown",
   "id": "545bd858",
   "metadata": {},
   "source": [
    "## 2. Perform a data audit for the datatypes and find out if there are any mismatch within the current datatypes of the columns and their business significance"
   ]
  },
  {
   "cell_type": "code",
   "execution_count": 9,
   "id": "bdab66f3",
   "metadata": {},
   "outputs": [
    {
     "name": "stdout",
     "output_type": "stream",
     "text": [
      "<class 'pandas.core.frame.DataFrame'>\n",
      "Int64Index: 1085 entries, 0 to 1084\n",
      "Data columns (total 15 columns):\n",
      " #   Column               Non-Null Count  Dtype  \n",
      "---  ------               --------------  -----  \n",
      " 0   customer_id          1085 non-null   int64  \n",
      " 1   gender               1085 non-null   object \n",
      " 2   DateOfBirth          1085 non-null   object \n",
      " 3   State                1085 non-null   object \n",
      " 4   Contact              1085 non-null   object \n",
      " 5   Segment              1085 non-null   object \n",
      " 6   claim_id             1085 non-null   int64  \n",
      " 7   incident_cause       1085 non-null   object \n",
      " 8   claim_date           1085 non-null   object \n",
      " 9   claim_area           1085 non-null   object \n",
      " 10  police_report        1085 non-null   object \n",
      " 11  claim_type           1085 non-null   object \n",
      " 12  claim_amount         1020 non-null   object \n",
      " 13  total_policy_claims  1075 non-null   float64\n",
      " 14  fraudulent           1085 non-null   object \n",
      "dtypes: float64(1), int64(2), object(12)\n",
      "memory usage: 135.6+ KB\n"
     ]
    }
   ],
   "source": [
    "final.info()"
   ]
  },
  {
   "cell_type": "code",
   "execution_count": 10,
   "id": "40af6482",
   "metadata": {},
   "outputs": [],
   "source": [
    "final.DateOfBirth = final.DateOfBirth.astype(np.datetime64)\n",
    "final.claim_date = final.claim_date.astype(np.datetime64)"
   ]
  },
  {
   "cell_type": "code",
   "execution_count": 11,
   "id": "c08ad94d",
   "metadata": {},
   "outputs": [],
   "source": [
    "final.Contact = [i.replace(\"-\",\"\")for i in final.Contact]\n",
    "final.Contact = final.Contact.astype(np.int64)"
   ]
  },
  {
   "cell_type": "code",
   "execution_count": 12,
   "id": "6c6e2673",
   "metadata": {},
   "outputs": [],
   "source": [
    "final.claim_amount = final.claim_amount.astype(\"str\")\n",
    "final.claim_amount = [i.replace(\"$\", \"\")for i in final.claim_amount]\n",
    "final.claim_amount = final.claim_amount.astype(\"float\")"
   ]
  },
  {
   "cell_type": "code",
   "execution_count": 13,
   "id": "5eae8e87",
   "metadata": {},
   "outputs": [
    {
     "name": "stdout",
     "output_type": "stream",
     "text": [
      "<class 'pandas.core.frame.DataFrame'>\n",
      "Int64Index: 1085 entries, 0 to 1084\n",
      "Data columns (total 15 columns):\n",
      " #   Column               Non-Null Count  Dtype         \n",
      "---  ------               --------------  -----         \n",
      " 0   customer_id          1085 non-null   int64         \n",
      " 1   gender               1085 non-null   object        \n",
      " 2   DateOfBirth          1085 non-null   datetime64[ns]\n",
      " 3   State                1085 non-null   object        \n",
      " 4   Contact              1085 non-null   int64         \n",
      " 5   Segment              1085 non-null   object        \n",
      " 6   claim_id             1085 non-null   int64         \n",
      " 7   incident_cause       1085 non-null   object        \n",
      " 8   claim_date           1085 non-null   datetime64[ns]\n",
      " 9   claim_area           1085 non-null   object        \n",
      " 10  police_report        1085 non-null   object        \n",
      " 11  claim_type           1085 non-null   object        \n",
      " 12  claim_amount         1020 non-null   float64       \n",
      " 13  total_policy_claims  1075 non-null   float64       \n",
      " 14  fraudulent           1085 non-null   object        \n",
      "dtypes: datetime64[ns](2), float64(2), int64(3), object(8)\n",
      "memory usage: 135.6+ KB\n"
     ]
    }
   ],
   "source": [
    "final.info()"
   ]
  },
  {
   "cell_type": "markdown",
   "id": "0d432603",
   "metadata": {},
   "source": [
    "## 3. Convert the column claim_amount to numeric. Use the appropriate modules/attributes to remove the $ sign \n",
    "\n",
    "\n",
    "## Done above  "
   ]
  },
  {
   "cell_type": "markdown",
   "id": "e5f34633",
   "metadata": {},
   "source": [
    "## 4. Of all the injury claims, some of them have gone unreported with thepolice. Create an alert flag (1,0) for all such claims."
   ]
  },
  {
   "cell_type": "code",
   "execution_count": 14,
   "id": "69efc87c",
   "metadata": {},
   "outputs": [],
   "source": [
    "final.police_report = np.where(final.police_report == \"No\", 0 ,np.where(final.police_report ==\"Yes\",1,final.police_report) )"
   ]
  },
  {
   "cell_type": "code",
   "execution_count": 15,
   "id": "f7275816",
   "metadata": {},
   "outputs": [
    {
     "data": {
      "text/html": [
       "<div>\n",
       "<style scoped>\n",
       "    .dataframe tbody tr th:only-of-type {\n",
       "        vertical-align: middle;\n",
       "    }\n",
       "\n",
       "    .dataframe tbody tr th {\n",
       "        vertical-align: top;\n",
       "    }\n",
       "\n",
       "    .dataframe thead th {\n",
       "        text-align: right;\n",
       "    }\n",
       "</style>\n",
       "<table border=\"1\" class=\"dataframe\">\n",
       "  <thead>\n",
       "    <tr style=\"text-align: right;\">\n",
       "      <th></th>\n",
       "      <th>customer_id</th>\n",
       "      <th>gender</th>\n",
       "      <th>DateOfBirth</th>\n",
       "      <th>State</th>\n",
       "      <th>Contact</th>\n",
       "      <th>Segment</th>\n",
       "      <th>claim_id</th>\n",
       "      <th>incident_cause</th>\n",
       "      <th>claim_date</th>\n",
       "      <th>claim_area</th>\n",
       "      <th>police_report</th>\n",
       "      <th>claim_type</th>\n",
       "      <th>claim_amount</th>\n",
       "      <th>total_policy_claims</th>\n",
       "      <th>fraudulent</th>\n",
       "    </tr>\n",
       "  </thead>\n",
       "  <tbody>\n",
       "    <tr>\n",
       "      <th>0</th>\n",
       "      <td>21868593</td>\n",
       "      <td>Female</td>\n",
       "      <td>1979-01-12</td>\n",
       "      <td>VT</td>\n",
       "      <td>7899168172</td>\n",
       "      <td>Platinum</td>\n",
       "      <td>54004764</td>\n",
       "      <td>Driver error</td>\n",
       "      <td>2017-11-27</td>\n",
       "      <td>Auto</td>\n",
       "      <td>0</td>\n",
       "      <td>Material only</td>\n",
       "      <td>2980.0</td>\n",
       "      <td>1.0</td>\n",
       "      <td>No</td>\n",
       "    </tr>\n",
       "    <tr>\n",
       "      <th>1</th>\n",
       "      <td>75740424</td>\n",
       "      <td>Female</td>\n",
       "      <td>2070-01-13</td>\n",
       "      <td>ME</td>\n",
       "      <td>2655431264</td>\n",
       "      <td>Silver</td>\n",
       "      <td>33985796</td>\n",
       "      <td>Crime</td>\n",
       "      <td>2018-10-03</td>\n",
       "      <td>Home</td>\n",
       "      <td>Unknown</td>\n",
       "      <td>Material only</td>\n",
       "      <td>2980.0</td>\n",
       "      <td>3.0</td>\n",
       "      <td>No</td>\n",
       "    </tr>\n",
       "    <tr>\n",
       "      <th>2</th>\n",
       "      <td>30308357</td>\n",
       "      <td>Female</td>\n",
       "      <td>1984-03-11</td>\n",
       "      <td>TN</td>\n",
       "      <td>7986314758</td>\n",
       "      <td>Silver</td>\n",
       "      <td>53522022</td>\n",
       "      <td>Other driver error</td>\n",
       "      <td>2018-02-02</td>\n",
       "      <td>Auto</td>\n",
       "      <td>0</td>\n",
       "      <td>Material only</td>\n",
       "      <td>3369.5</td>\n",
       "      <td>1.0</td>\n",
       "      <td>Yes</td>\n",
       "    </tr>\n",
       "    <tr>\n",
       "      <th>3</th>\n",
       "      <td>30308357</td>\n",
       "      <td>Female</td>\n",
       "      <td>1984-03-11</td>\n",
       "      <td>TN</td>\n",
       "      <td>7986314758</td>\n",
       "      <td>Silver</td>\n",
       "      <td>63017412</td>\n",
       "      <td>Driver error</td>\n",
       "      <td>2018-04-04</td>\n",
       "      <td>Auto</td>\n",
       "      <td>0</td>\n",
       "      <td>Material only</td>\n",
       "      <td>1950.0</td>\n",
       "      <td>6.0</td>\n",
       "      <td>No</td>\n",
       "    </tr>\n",
       "    <tr>\n",
       "      <th>4</th>\n",
       "      <td>47830476</td>\n",
       "      <td>Female</td>\n",
       "      <td>1986-05-01</td>\n",
       "      <td>MA</td>\n",
       "      <td>4131877945</td>\n",
       "      <td>Silver</td>\n",
       "      <td>13015401</td>\n",
       "      <td>Natural causes</td>\n",
       "      <td>2018-06-17</td>\n",
       "      <td>Auto</td>\n",
       "      <td>0</td>\n",
       "      <td>Material only</td>\n",
       "      <td>1680.0</td>\n",
       "      <td>1.0</td>\n",
       "      <td>No</td>\n",
       "    </tr>\n",
       "    <tr>\n",
       "      <th>...</th>\n",
       "      <td>...</td>\n",
       "      <td>...</td>\n",
       "      <td>...</td>\n",
       "      <td>...</td>\n",
       "      <td>...</td>\n",
       "      <td>...</td>\n",
       "      <td>...</td>\n",
       "      <td>...</td>\n",
       "      <td>...</td>\n",
       "      <td>...</td>\n",
       "      <td>...</td>\n",
       "      <td>...</td>\n",
       "      <td>...</td>\n",
       "      <td>...</td>\n",
       "      <td>...</td>\n",
       "    </tr>\n",
       "    <tr>\n",
       "      <th>1080</th>\n",
       "      <td>79539873</td>\n",
       "      <td>Female</td>\n",
       "      <td>1981-03-15</td>\n",
       "      <td>ND</td>\n",
       "      <td>4594254319</td>\n",
       "      <td>Platinum</td>\n",
       "      <td>62020796</td>\n",
       "      <td>Other driver error</td>\n",
       "      <td>2018-09-06</td>\n",
       "      <td>Auto</td>\n",
       "      <td>1</td>\n",
       "      <td>Material only</td>\n",
       "      <td>1770.0</td>\n",
       "      <td>1.0</td>\n",
       "      <td>No</td>\n",
       "    </tr>\n",
       "    <tr>\n",
       "      <th>1081</th>\n",
       "      <td>42364152</td>\n",
       "      <td>Female</td>\n",
       "      <td>1996-07-07</td>\n",
       "      <td>ID</td>\n",
       "      <td>5294621635</td>\n",
       "      <td>Silver</td>\n",
       "      <td>63269067</td>\n",
       "      <td>Other causes</td>\n",
       "      <td>2017-05-09</td>\n",
       "      <td>Home</td>\n",
       "      <td>0</td>\n",
       "      <td>Material only</td>\n",
       "      <td>2800.0</td>\n",
       "      <td>1.0</td>\n",
       "      <td>No</td>\n",
       "    </tr>\n",
       "    <tr>\n",
       "      <th>1082</th>\n",
       "      <td>19888166</td>\n",
       "      <td>Male</td>\n",
       "      <td>1990-04-11</td>\n",
       "      <td>WI</td>\n",
       "      <td>7126519613</td>\n",
       "      <td>Gold</td>\n",
       "      <td>22690595</td>\n",
       "      <td>Other driver error</td>\n",
       "      <td>2017-05-15</td>\n",
       "      <td>Auto</td>\n",
       "      <td>1</td>\n",
       "      <td>Injury only</td>\n",
       "      <td>33080.0</td>\n",
       "      <td>2.0</td>\n",
       "      <td>No</td>\n",
       "    </tr>\n",
       "    <tr>\n",
       "      <th>1083</th>\n",
       "      <td>11256802</td>\n",
       "      <td>Female</td>\n",
       "      <td>2064-10-22</td>\n",
       "      <td>LA</td>\n",
       "      <td>4693455617</td>\n",
       "      <td>Silver</td>\n",
       "      <td>12376894</td>\n",
       "      <td>Other driver error</td>\n",
       "      <td>2017-04-18</td>\n",
       "      <td>Auto</td>\n",
       "      <td>0</td>\n",
       "      <td>Material only</td>\n",
       "      <td>2840.0</td>\n",
       "      <td>4.0</td>\n",
       "      <td>No</td>\n",
       "    </tr>\n",
       "    <tr>\n",
       "      <th>1084</th>\n",
       "      <td>61575264</td>\n",
       "      <td>Male</td>\n",
       "      <td>1995-07-12</td>\n",
       "      <td>WY</td>\n",
       "      <td>1823851392</td>\n",
       "      <td>Gold</td>\n",
       "      <td>63226031</td>\n",
       "      <td>Natural causes</td>\n",
       "      <td>2017-03-16</td>\n",
       "      <td>Auto</td>\n",
       "      <td>0</td>\n",
       "      <td>Material only</td>\n",
       "      <td>1490.0</td>\n",
       "      <td>1.0</td>\n",
       "      <td>No</td>\n",
       "    </tr>\n",
       "  </tbody>\n",
       "</table>\n",
       "<p>1085 rows × 15 columns</p>\n",
       "</div>"
      ],
      "text/plain": [
       "      customer_id  gender DateOfBirth State     Contact   Segment  claim_id  \\\n",
       "0        21868593  Female  1979-01-12    VT  7899168172  Platinum  54004764   \n",
       "1        75740424  Female  2070-01-13    ME  2655431264    Silver  33985796   \n",
       "2        30308357  Female  1984-03-11    TN  7986314758    Silver  53522022   \n",
       "3        30308357  Female  1984-03-11    TN  7986314758    Silver  63017412   \n",
       "4        47830476  Female  1986-05-01    MA  4131877945    Silver  13015401   \n",
       "...           ...     ...         ...   ...         ...       ...       ...   \n",
       "1080     79539873  Female  1981-03-15    ND  4594254319  Platinum  62020796   \n",
       "1081     42364152  Female  1996-07-07    ID  5294621635    Silver  63269067   \n",
       "1082     19888166    Male  1990-04-11    WI  7126519613      Gold  22690595   \n",
       "1083     11256802  Female  2064-10-22    LA  4693455617    Silver  12376894   \n",
       "1084     61575264    Male  1995-07-12    WY  1823851392      Gold  63226031   \n",
       "\n",
       "          incident_cause claim_date claim_area police_report     claim_type  \\\n",
       "0           Driver error 2017-11-27       Auto             0  Material only   \n",
       "1                  Crime 2018-10-03       Home       Unknown  Material only   \n",
       "2     Other driver error 2018-02-02       Auto             0  Material only   \n",
       "3           Driver error 2018-04-04       Auto             0  Material only   \n",
       "4         Natural causes 2018-06-17       Auto             0  Material only   \n",
       "...                  ...        ...        ...           ...            ...   \n",
       "1080  Other driver error 2018-09-06       Auto             1  Material only   \n",
       "1081        Other causes 2017-05-09       Home             0  Material only   \n",
       "1082  Other driver error 2017-05-15       Auto             1    Injury only   \n",
       "1083  Other driver error 2017-04-18       Auto             0  Material only   \n",
       "1084      Natural causes 2017-03-16       Auto             0  Material only   \n",
       "\n",
       "      claim_amount  total_policy_claims fraudulent  \n",
       "0           2980.0                  1.0         No  \n",
       "1           2980.0                  3.0         No  \n",
       "2           3369.5                  1.0        Yes  \n",
       "3           1950.0                  6.0         No  \n",
       "4           1680.0                  1.0         No  \n",
       "...            ...                  ...        ...  \n",
       "1080        1770.0                  1.0         No  \n",
       "1081        2800.0                  1.0         No  \n",
       "1082       33080.0                  2.0         No  \n",
       "1083        2840.0                  4.0         No  \n",
       "1084        1490.0                  1.0         No  \n",
       "\n",
       "[1085 rows x 15 columns]"
      ]
     },
     "execution_count": 15,
     "metadata": {},
     "output_type": "execute_result"
    }
   ],
   "source": [
    "final"
   ]
  },
  {
   "cell_type": "markdown",
   "id": "0368e574",
   "metadata": {},
   "source": [
    "## 5. One customer can claim for insurance more than once and in each claim, multiple categories of claims can be involved. However, customer ID should remain unique. \n",
    "\n",
    "## Retain the most recent observation and delete any duplicated records in the data based on the customer ID column."
   ]
  },
  {
   "cell_type": "code",
   "execution_count": 16,
   "id": "8d817871",
   "metadata": {},
   "outputs": [],
   "source": [
    "final[\"claim_year\"]= final.claim_date.dt.year\n",
    "final[\"claim_day\"]=final.claim_date.dt.day\n",
    "final[\"claim_month\"]=final.claim_date.dt.month"
   ]
  },
  {
   "cell_type": "code",
   "execution_count": 17,
   "id": "368ff81d",
   "metadata": {},
   "outputs": [],
   "source": [
    "final.sort_values([\"claim_year\",\"claim_month\", \"claim_day\"], ascending=[False,True,True],inplace=True)"
   ]
  },
  {
   "cell_type": "code",
   "execution_count": 18,
   "id": "05678830",
   "metadata": {},
   "outputs": [
    {
     "data": {
      "text/plain": [
       "True"
      ]
     },
     "execution_count": 18,
     "metadata": {},
     "output_type": "execute_result"
    }
   ],
   "source": [
    "final.customer_id.duplicated().any()\n",
    "\n"
   ]
  },
  {
   "cell_type": "code",
   "execution_count": 19,
   "id": "6634067a",
   "metadata": {},
   "outputs": [],
   "source": [
    "final.drop_duplicates(\"customer_id\",inplace=True)"
   ]
  },
  {
   "cell_type": "markdown",
   "id": "1b835441",
   "metadata": {},
   "source": [
    "## 6. Check for missing values and impute the missing values with an appropriate value. (mean for continuous and mode for categorical)"
   ]
  },
  {
   "cell_type": "code",
   "execution_count": 20,
   "id": "ca8a1d45",
   "metadata": {},
   "outputs": [
    {
     "data": {
      "text/plain": [
       "customer_id            1078\n",
       "gender                 1078\n",
       "DateOfBirth            1078\n",
       "State                  1078\n",
       "Contact                1078\n",
       "Segment                1078\n",
       "claim_id               1078\n",
       "incident_cause         1078\n",
       "claim_date             1078\n",
       "claim_area             1078\n",
       "police_report          1078\n",
       "claim_type             1078\n",
       "claim_amount           1013\n",
       "total_policy_claims    1068\n",
       "fraudulent             1078\n",
       "claim_year             1078\n",
       "claim_day              1078\n",
       "claim_month            1078\n",
       "dtype: int64"
      ]
     },
     "execution_count": 20,
     "metadata": {},
     "output_type": "execute_result"
    }
   ],
   "source": [
    "final.count()"
   ]
  },
  {
   "cell_type": "code",
   "execution_count": 21,
   "id": "1425fccb",
   "metadata": {},
   "outputs": [],
   "source": [
    "##claim_amount           1013\n",
    "##total_policy_claims    1068"
   ]
  },
  {
   "cell_type": "code",
   "execution_count": 22,
   "id": "9b89dc39",
   "metadata": {},
   "outputs": [
    {
     "data": {
      "text/plain": [
       "12503.562191510366"
      ]
     },
     "execution_count": 22,
     "metadata": {},
     "output_type": "execute_result"
    }
   ],
   "source": [
    "final.claim_amount.mean()"
   ]
  },
  {
   "cell_type": "code",
   "execution_count": 23,
   "id": "22acd274",
   "metadata": {},
   "outputs": [],
   "source": [
    "final.claim_amount.fillna(12503.56, inplace=True )"
   ]
  },
  {
   "cell_type": "code",
   "execution_count": 24,
   "id": "65112e14",
   "metadata": {},
   "outputs": [
    {
     "data": {
      "text/plain": [
       "0    1.0\n",
       "dtype: float64"
      ]
     },
     "execution_count": 24,
     "metadata": {},
     "output_type": "execute_result"
    }
   ],
   "source": [
    "final.total_policy_claims.mode()"
   ]
  },
  {
   "cell_type": "code",
   "execution_count": 25,
   "id": "c5952f41",
   "metadata": {},
   "outputs": [],
   "source": [
    "final.total_policy_claims.fillna(1.0, inplace=True)"
   ]
  },
  {
   "cell_type": "markdown",
   "id": "d797ca2a",
   "metadata": {},
   "source": [
    "## 7. Calculate the age of customers in years. Based on the age, categorize the \n",
    "## customers according to the below criteria\n",
    "\n",
    "### Children < 18\n",
    "### Youth 18-30\n",
    "### Adult 30-60\n",
    "### Senior > 60\n"
   ]
  },
  {
   "cell_type": "code",
   "execution_count": 26,
   "id": "22e158c9",
   "metadata": {},
   "outputs": [],
   "source": [
    "final[\"birth_year\"]= final.DateOfBirth.dt.year\n"
   ]
  },
  {
   "cell_type": "code",
   "execution_count": 27,
   "id": "76f37108",
   "metadata": {},
   "outputs": [],
   "source": [
    "final.birth_year = final.birth_year.astype(\"str\")"
   ]
  },
  {
   "cell_type": "code",
   "execution_count": 28,
   "id": "e1062d0f",
   "metadata": {},
   "outputs": [],
   "source": [
    "final.birth_year = [i.replace(\"20\",'19') for i in final.birth_year]"
   ]
  },
  {
   "cell_type": "code",
   "execution_count": 29,
   "id": "05119bd4",
   "metadata": {},
   "outputs": [],
   "source": [
    "final.birth_year = final.birth_year.astype(\"int\")"
   ]
  },
  {
   "cell_type": "code",
   "execution_count": 30,
   "id": "382e4cf2",
   "metadata": {},
   "outputs": [],
   "source": [
    "final[\"Age\"]=2021- final.birth_year"
   ]
  },
  {
   "cell_type": "code",
   "execution_count": 31,
   "id": "d9654b92",
   "metadata": {},
   "outputs": [],
   "source": [
    "final.Age\n",
    "final.Age = final.Age.astype(\"str\")"
   ]
  },
  {
   "cell_type": "code",
   "execution_count": 32,
   "id": "4cc1a346",
   "metadata": {},
   "outputs": [],
   "source": [
    "final[\"Age_category\"]= np.where(final.Age <\"18\",\"Children\",np.where(((final.Age >=\"18\")&(final.Age <\"30\")),\"Youth\",np.where(((final.Age >=\"30\")&(final.Age <\"60\")),\"Adult\",\"Senior\")) )"
   ]
  },
  {
   "cell_type": "code",
   "execution_count": 33,
   "id": "0b1494c8",
   "metadata": {},
   "outputs": [
    {
     "data": {
      "text/plain": [
       "175     Senior\n",
       "185      Adult\n",
       "191      Adult\n",
       "308      Youth\n",
       "561      Adult\n",
       "         ...  \n",
       "753      Adult\n",
       "901      Adult\n",
       "937      Adult\n",
       "1021     Adult\n",
       "1070     Adult\n",
       "Name: Age_category, Length: 1078, dtype: object"
      ]
     },
     "execution_count": 33,
     "metadata": {},
     "output_type": "execute_result"
    }
   ],
   "source": [
    "final.Age_category"
   ]
  },
  {
   "cell_type": "markdown",
   "id": "c84edc7b",
   "metadata": {},
   "source": [
    "## 8. What is the average amount claimed by the customers from various segments?\n"
   ]
  },
  {
   "cell_type": "code",
   "execution_count": 34,
   "id": "e4ad295d",
   "metadata": {},
   "outputs": [
    {
     "data": {
      "text/html": [
       "<div>\n",
       "<style scoped>\n",
       "    .dataframe tbody tr th:only-of-type {\n",
       "        vertical-align: middle;\n",
       "    }\n",
       "\n",
       "    .dataframe tbody tr th {\n",
       "        vertical-align: top;\n",
       "    }\n",
       "\n",
       "    .dataframe thead th {\n",
       "        text-align: right;\n",
       "    }\n",
       "</style>\n",
       "<table border=\"1\" class=\"dataframe\">\n",
       "  <thead>\n",
       "    <tr style=\"text-align: right;\">\n",
       "      <th></th>\n",
       "      <th>avg_amount_claim</th>\n",
       "    </tr>\n",
       "    <tr>\n",
       "      <th>Age_category</th>\n",
       "      <th></th>\n",
       "    </tr>\n",
       "  </thead>\n",
       "  <tbody>\n",
       "    <tr>\n",
       "      <th>Adult</th>\n",
       "      <td>12606.277669</td>\n",
       "    </tr>\n",
       "    <tr>\n",
       "      <th>Senior</th>\n",
       "      <td>12935.026531</td>\n",
       "    </tr>\n",
       "    <tr>\n",
       "      <th>Youth</th>\n",
       "      <td>12057.203550</td>\n",
       "    </tr>\n",
       "  </tbody>\n",
       "</table>\n",
       "</div>"
      ],
      "text/plain": [
       "              avg_amount_claim\n",
       "Age_category                  \n",
       "Adult             12606.277669\n",
       "Senior            12935.026531\n",
       "Youth             12057.203550"
      ]
     },
     "execution_count": 34,
     "metadata": {},
     "output_type": "execute_result"
    }
   ],
   "source": [
    "final.groupby([\"Age_category\"]).agg(avg_amount_claim = (\"claim_amount\", \"mean\"))\n"
   ]
  },
  {
   "cell_type": "markdown",
   "id": "ae5b464b",
   "metadata": {},
   "source": [
    "## 9. What is the total claim amount based on incident cause for all the claims that have been done at least 20 days prior to 1st of October, 2018."
   ]
  },
  {
   "cell_type": "code",
   "execution_count": 35,
   "id": "5859d2e8",
   "metadata": {},
   "outputs": [],
   "source": [
    "## we need claims between  10sep2018 to 30sep2018 \n",
    "\n",
    "final.drop({\"claim_month\"}, axis=1, inplace=True)"
   ]
  },
  {
   "cell_type": "code",
   "execution_count": 36,
   "id": "a9fcc71d",
   "metadata": {},
   "outputs": [],
   "source": [
    "final[\"claim_month\"]= final.claim_date.dt.strftime(\"%B\")"
   ]
  },
  {
   "cell_type": "code",
   "execution_count": 37,
   "id": "303aff9a",
   "metadata": {},
   "outputs": [],
   "source": [
    "final_oct2018 = final[((final.claim_year == 2018) & (final.claim_month ==\"October\")& ((final.claim_day>9) & (final.claim_day<31)))]"
   ]
  },
  {
   "cell_type": "code",
   "execution_count": 38,
   "id": "b951eb8e",
   "metadata": {},
   "outputs": [
    {
     "data": {
      "text/html": [
       "<div>\n",
       "<style scoped>\n",
       "    .dataframe tbody tr th:only-of-type {\n",
       "        vertical-align: middle;\n",
       "    }\n",
       "\n",
       "    .dataframe tbody tr th {\n",
       "        vertical-align: top;\n",
       "    }\n",
       "\n",
       "    .dataframe thead th {\n",
       "        text-align: right;\n",
       "    }\n",
       "</style>\n",
       "<table border=\"1\" class=\"dataframe\">\n",
       "  <thead>\n",
       "    <tr style=\"text-align: right;\">\n",
       "      <th></th>\n",
       "      <th>Total_claim</th>\n",
       "    </tr>\n",
       "    <tr>\n",
       "      <th>incident_cause</th>\n",
       "      <th></th>\n",
       "    </tr>\n",
       "  </thead>\n",
       "  <tbody>\n",
       "    <tr>\n",
       "      <th>Crime</th>\n",
       "      <td>20690.00</td>\n",
       "    </tr>\n",
       "    <tr>\n",
       "      <th>Driver error</th>\n",
       "      <td>112867.12</td>\n",
       "    </tr>\n",
       "    <tr>\n",
       "      <th>Natural causes</th>\n",
       "      <td>18663.56</td>\n",
       "    </tr>\n",
       "    <tr>\n",
       "      <th>Other causes</th>\n",
       "      <td>144937.50</td>\n",
       "    </tr>\n",
       "    <tr>\n",
       "      <th>Other driver error</th>\n",
       "      <td>90622.56</td>\n",
       "    </tr>\n",
       "  </tbody>\n",
       "</table>\n",
       "</div>"
      ],
      "text/plain": [
       "                    Total_claim\n",
       "incident_cause                 \n",
       "Crime                  20690.00\n",
       "Driver error          112867.12\n",
       "Natural causes         18663.56\n",
       "Other causes          144937.50\n",
       "Other driver error     90622.56"
      ]
     },
     "execution_count": 38,
     "metadata": {},
     "output_type": "execute_result"
    }
   ],
   "source": [
    "final_oct2018.groupby(\"incident_cause\").agg(Total_claim = (\"claim_amount\",\"sum\"))"
   ]
  },
  {
   "cell_type": "markdown",
   "id": "08687773",
   "metadata": {},
   "source": [
    "## 10. How many adults from TX, DE and AK claimed insurance for driver related issues and causes? "
   ]
  },
  {
   "cell_type": "code",
   "execution_count": 39,
   "id": "c318d35c",
   "metadata": {},
   "outputs": [],
   "source": [
    "final_tx_de_ak = final[(final.State == \"TX\")|(final.State == \"DE\")|(final.State == \"AK\")]"
   ]
  },
  {
   "cell_type": "code",
   "execution_count": 40,
   "id": "46b22599",
   "metadata": {},
   "outputs": [
    {
     "data": {
      "text/plain": [
       "Driver error          22\n",
       "Other causes          18\n",
       "Natural causes        14\n",
       "Other driver error    13\n",
       "Crime                  3\n",
       "Name: incident_cause, dtype: int64"
      ]
     },
     "execution_count": 40,
     "metadata": {},
     "output_type": "execute_result"
    }
   ],
   "source": [
    "final_tx_de_ak.incident_cause.value_counts()\n",
    "## Other driver error, Driver error          \n"
   ]
  },
  {
   "cell_type": "code",
   "execution_count": 41,
   "id": "a4ba4c2a",
   "metadata": {},
   "outputs": [
    {
     "data": {
      "text/plain": [
       "customer_id            56\n",
       "gender                 56\n",
       "DateOfBirth            56\n",
       "State                  56\n",
       "Contact                56\n",
       "Segment                56\n",
       "claim_id               56\n",
       "incident_cause         56\n",
       "claim_date             56\n",
       "claim_area             56\n",
       "police_report          56\n",
       "claim_type             56\n",
       "claim_amount           56\n",
       "total_policy_claims    56\n",
       "fraudulent             56\n",
       "claim_year             56\n",
       "claim_day              56\n",
       "birth_year             56\n",
       "Age                    56\n",
       "Age_category           56\n",
       "claim_month            56\n",
       "dtype: int64"
      ]
     },
     "execution_count": 41,
     "metadata": {},
     "output_type": "execute_result"
    }
   ],
   "source": [
    "final_tx_de_ak[(final_tx_de_ak.incident_cause==\"Driver error \")|(final_tx_de_ak.incident_cause==\"Other driver error\")|(final_tx_de_ak.Age_category == \"Adult\")].count()"
   ]
  },
  {
   "cell_type": "code",
   "execution_count": 42,
   "id": "1f44fb06",
   "metadata": {},
   "outputs": [],
   "source": [
    "## 56 customer "
   ]
  },
  {
   "cell_type": "markdown",
   "id": "08af3369",
   "metadata": {},
   "source": [
    "## 11. Draw a pie chart between the aggregated value of claim amount based on gender and segment. Represent the claim amount as a percentage on the pie chart.\n"
   ]
  },
  {
   "cell_type": "code",
   "execution_count": 43,
   "id": "3f9c75ea",
   "metadata": {},
   "outputs": [],
   "source": [
    "plot_m_f_segment = pd.crosstab(final.gender, final.Segment, values= final.claim_amount ,aggfunc=\"sum\")\n"
   ]
  },
  {
   "cell_type": "code",
   "execution_count": 44,
   "id": "8ab401b1",
   "metadata": {},
   "outputs": [
    {
     "data": {
      "text/plain": [
       "<AxesSubplot:xlabel='gender'>"
      ]
     },
     "execution_count": 44,
     "metadata": {},
     "output_type": "execute_result"
    },
    {
     "data": {
      "image/png": "[encoded data removed]",
      "text/plain": [
       "<Figure size 432x288 with 1 Axes>"
      ]
     },
     "metadata": {
      "needs_background": "light"
     },
     "output_type": "display_data"
    }
   ],
   "source": [
    "plot_m_f_segment.plot.bar()"
   ]
  },
  {
   "cell_type": "code",
   "execution_count": 45,
   "id": "109d3bec",
   "metadata": {},
   "outputs": [
    {
     "data": {
      "text/plain": [
       "<AxesSubplot:title={'center':'Male'}>"
      ]
     },
     "execution_count": 45,
     "metadata": {},
     "output_type": "execute_result"
    },
    {
     "data": {
      "image/png": "[encoded data removed]",
      "text/plain": [
       "<Figure size 432x288 with 1 Axes>"
      ]
     },
     "metadata": {},
     "output_type": "display_data"
    }
   ],
   "source": [
    "plot_m_f_segment.loc[\"Male\"].plot.pie(ylabel='', autopct='%1.1f%%', title = \"Male\")\n"
   ]
  },
  {
   "cell_type": "code",
   "execution_count": 46,
   "id": "c5f84782",
   "metadata": {},
   "outputs": [
    {
     "data": {
      "text/plain": [
       "<AxesSubplot:title={'center':'Female'}>"
      ]
     },
     "execution_count": 46,
     "metadata": {},
     "output_type": "execute_result"
    },
    {
     "data": {
      "image/png": "[encoded data removed]",
      "text/plain": [
       "<Figure size 432x288 with 1 Axes>"
      ]
     },
     "metadata": {},
     "output_type": "display_data"
    }
   ],
   "source": [
    "plot_m_f_segment.loc[\"Female\"].plot.pie(ylabel='', autopct='%1.1f%%', title = \"Female\")"
   ]
  },
  {
   "cell_type": "markdown",
   "id": "b0b8dbda",
   "metadata": {},
   "source": [
    "## 12. Among males and females, which gender had claimed the most for any type of driver related issues? E.g. This metric can be compared using abar chart"
   ]
  },
  {
   "cell_type": "code",
   "execution_count": 47,
   "id": "b3921780",
   "metadata": {},
   "outputs": [],
   "source": [
    "final_m_f_driver = pd.crosstab(final.gender, final.incident_cause)"
   ]
  },
  {
   "cell_type": "code",
   "execution_count": 48,
   "id": "52f6381e",
   "metadata": {},
   "outputs": [],
   "source": [
    "final_m_f_driver[\"Total_driver_related\"]= final_m_f_driver[\"Driver error\"] + final_m_f_driver[\"Other driver error\"]"
   ]
  },
  {
   "cell_type": "code",
   "execution_count": 49,
   "id": "5e80f0ef",
   "metadata": {},
   "outputs": [
    {
     "data": {
      "text/plain": [
       "<AxesSubplot:xlabel='gender'>"
      ]
     },
     "execution_count": 49,
     "metadata": {},
     "output_type": "execute_result"
    },
    {
     "data": {
      "image/png": "[encoded data removed]",
      "text/plain": [
       "<Figure size 432x288 with 1 Axes>"
      ]
     },
     "metadata": {
      "needs_background": "light"
     },
     "output_type": "display_data"
    }
   ],
   "source": [
    "final_m_f_driver.Total_driver_related.plot.bar()"
   ]
  },
  {
   "cell_type": "code",
   "execution_count": 50,
   "id": "87b4595b",
   "metadata": {},
   "outputs": [
    {
     "data": {
      "text/html": [
       "<div>\n",
       "<style scoped>\n",
       "    .dataframe tbody tr th:only-of-type {\n",
       "        vertical-align: middle;\n",
       "    }\n",
       "\n",
       "    .dataframe tbody tr th {\n",
       "        vertical-align: top;\n",
       "    }\n",
       "\n",
       "    .dataframe thead th {\n",
       "        text-align: right;\n",
       "    }\n",
       "</style>\n",
       "<table border=\"1\" class=\"dataframe\">\n",
       "  <thead>\n",
       "    <tr style=\"text-align: right;\">\n",
       "      <th>incident_cause</th>\n",
       "      <th>Crime</th>\n",
       "      <th>Driver error</th>\n",
       "      <th>Natural causes</th>\n",
       "      <th>Other causes</th>\n",
       "      <th>Other driver error</th>\n",
       "      <th>Total_driver_related</th>\n",
       "    </tr>\n",
       "    <tr>\n",
       "      <th>gender</th>\n",
       "      <th></th>\n",
       "      <th></th>\n",
       "      <th></th>\n",
       "      <th></th>\n",
       "      <th></th>\n",
       "      <th></th>\n",
       "    </tr>\n",
       "  </thead>\n",
       "  <tbody>\n",
       "    <tr>\n",
       "      <th>Female</th>\n",
       "      <td>58</td>\n",
       "      <td>72</td>\n",
       "      <td>92</td>\n",
       "      <td>156</td>\n",
       "      <td>149</td>\n",
       "      <td>221</td>\n",
       "    </tr>\n",
       "    <tr>\n",
       "      <th>Male</th>\n",
       "      <td>50</td>\n",
       "      <td>186</td>\n",
       "      <td>93</td>\n",
       "      <td>127</td>\n",
       "      <td>95</td>\n",
       "      <td>281</td>\n",
       "    </tr>\n",
       "  </tbody>\n",
       "</table>\n",
       "</div>"
      ],
      "text/plain": [
       "incident_cause  Crime  Driver error  Natural causes  Other causes  \\\n",
       "gender                                                              \n",
       "Female             58            72              92           156   \n",
       "Male               50           186              93           127   \n",
       "\n",
       "incident_cause  Other driver error  Total_driver_related  \n",
       "gender                                                    \n",
       "Female                         149                   221  \n",
       "Male                            95                   281  "
      ]
     },
     "execution_count": 50,
     "metadata": {},
     "output_type": "execute_result"
    }
   ],
   "source": [
    "final_m_f_driver"
   ]
  },
  {
   "cell_type": "code",
   "execution_count": 51,
   "id": "1cf797a5",
   "metadata": {},
   "outputs": [],
   "source": [
    "## male gender had claimed the most for any type of driver related issues"
   ]
  },
  {
   "cell_type": "markdown",
   "id": "239995b0",
   "metadata": {},
   "source": [
    "## 13. Which age group had the maximum fraudulent policy claims? Visualize it on a bar chart."
   ]
  },
  {
   "cell_type": "code",
   "execution_count": 52,
   "id": "f6c19370",
   "metadata": {},
   "outputs": [
    {
     "data": {
      "text/html": [
       "<div>\n",
       "<style scoped>\n",
       "    .dataframe tbody tr th:only-of-type {\n",
       "        vertical-align: middle;\n",
       "    }\n",
       "\n",
       "    .dataframe tbody tr th {\n",
       "        vertical-align: top;\n",
       "    }\n",
       "\n",
       "    .dataframe thead th {\n",
       "        text-align: right;\n",
       "    }\n",
       "</style>\n",
       "<table border=\"1\" class=\"dataframe\">\n",
       "  <thead>\n",
       "    <tr style=\"text-align: right;\">\n",
       "      <th>fraudulent</th>\n",
       "      <th>No</th>\n",
       "      <th>Yes</th>\n",
       "    </tr>\n",
       "    <tr>\n",
       "      <th>Age_category</th>\n",
       "      <th></th>\n",
       "      <th></th>\n",
       "    </tr>\n",
       "  </thead>\n",
       "  <tbody>\n",
       "    <tr>\n",
       "      <th>Adult</th>\n",
       "      <td>609</td>\n",
       "      <td>189</td>\n",
       "    </tr>\n",
       "    <tr>\n",
       "      <th>Senior</th>\n",
       "      <td>37</td>\n",
       "      <td>12</td>\n",
       "    </tr>\n",
       "    <tr>\n",
       "      <th>Youth</th>\n",
       "      <td>186</td>\n",
       "      <td>45</td>\n",
       "    </tr>\n",
       "  </tbody>\n",
       "</table>\n",
       "</div>"
      ],
      "text/plain": [
       "fraudulent     No  Yes\n",
       "Age_category          \n",
       "Adult         609  189\n",
       "Senior         37   12\n",
       "Youth         186   45"
      ]
     },
     "execution_count": 52,
     "metadata": {},
     "output_type": "execute_result"
    }
   ],
   "source": [
    "final_fraud = pd.crosstab(final.Age_category,final.fraudulent)\n",
    "final_fraud"
   ]
  },
  {
   "cell_type": "code",
   "execution_count": 53,
   "id": "00061fe5",
   "metadata": {},
   "outputs": [
    {
     "data": {
      "text/plain": [
       "<AxesSubplot:xlabel='Age_category'>"
      ]
     },
     "execution_count": 53,
     "metadata": {},
     "output_type": "execute_result"
    },
    {
     "data": {
      "image/png": "[encoded data removed]",
      "text/plain": [
       "<Figure size 432x288 with 1 Axes>"
      ]
     },
     "metadata": {
      "needs_background": "light"
     },
     "output_type": "display_data"
    }
   ],
   "source": [
    "final_fraud.plot.bar()"
   ]
  },
  {
   "cell_type": "code",
   "execution_count": 54,
   "id": "0826c701",
   "metadata": {},
   "outputs": [],
   "source": [
    "## Adult age group had maximum fraudulent policy claims"
   ]
  },
  {
   "cell_type": "markdown",
   "id": "bc5f36c1",
   "metadata": {},
   "source": [
    "## 14. Visualize the monthly trend of the total amount that has been claimed by the customers. Ensure that on the “month” axis, the month is in a chronological order not alphabetical order. "
   ]
  },
  {
   "cell_type": "code",
   "execution_count": 55,
   "id": "3ba01cd7",
   "metadata": {},
   "outputs": [],
   "source": [
    "final_monthly_trend = pd.crosstab(final.claim_month , final.claim_year , values=final.claim_amount, aggfunc=\"sum\")"
   ]
  },
  {
   "cell_type": "code",
   "execution_count": 56,
   "id": "47c796a2",
   "metadata": {},
   "outputs": [],
   "source": [
    "final_monthly_trend = final_monthly_trend.loc[['January','February','March', 'April', 'May',  'June','July', 'August','September','October', 'November', 'December']]"
   ]
  },
  {
   "cell_type": "code",
   "execution_count": 57,
   "id": "c35f9555",
   "metadata": {},
   "outputs": [
    {
     "data": {
      "text/html": [
       "<div>\n",
       "<style scoped>\n",
       "    .dataframe tbody tr th:only-of-type {\n",
       "        vertical-align: middle;\n",
       "    }\n",
       "\n",
       "    .dataframe tbody tr th {\n",
       "        vertical-align: top;\n",
       "    }\n",
       "\n",
       "    .dataframe thead th {\n",
       "        text-align: right;\n",
       "    }\n",
       "</style>\n",
       "<table border=\"1\" class=\"dataframe\">\n",
       "  <thead>\n",
       "    <tr style=\"text-align: right;\">\n",
       "      <th>claim_year</th>\n",
       "      <th>2017</th>\n",
       "      <th>2018</th>\n",
       "    </tr>\n",
       "    <tr>\n",
       "      <th>claim_month</th>\n",
       "      <th></th>\n",
       "      <th></th>\n",
       "    </tr>\n",
       "  </thead>\n",
       "  <tbody>\n",
       "    <tr>\n",
       "      <th>January</th>\n",
       "      <td>608021.68</td>\n",
       "      <td>721841.74</td>\n",
       "    </tr>\n",
       "    <tr>\n",
       "      <th>February</th>\n",
       "      <td>631460.12</td>\n",
       "      <td>536459.12</td>\n",
       "    </tr>\n",
       "    <tr>\n",
       "      <th>March</th>\n",
       "      <td>615580.12</td>\n",
       "      <td>704679.18</td>\n",
       "    </tr>\n",
       "    <tr>\n",
       "      <th>April</th>\n",
       "      <td>747977.56</td>\n",
       "      <td>542590.06</td>\n",
       "    </tr>\n",
       "    <tr>\n",
       "      <th>May</th>\n",
       "      <td>546747.18</td>\n",
       "      <td>567728.80</td>\n",
       "    </tr>\n",
       "    <tr>\n",
       "      <th>June</th>\n",
       "      <td>560145.56</td>\n",
       "      <td>718895.80</td>\n",
       "    </tr>\n",
       "    <tr>\n",
       "      <th>July</th>\n",
       "      <td>790876.24</td>\n",
       "      <td>588456.30</td>\n",
       "    </tr>\n",
       "    <tr>\n",
       "      <th>August</th>\n",
       "      <td>431620.12</td>\n",
       "      <td>479682.56</td>\n",
       "    </tr>\n",
       "    <tr>\n",
       "      <th>September</th>\n",
       "      <td>459481.92</td>\n",
       "      <td>521496.68</td>\n",
       "    </tr>\n",
       "    <tr>\n",
       "      <th>October</th>\n",
       "      <td>608994.68</td>\n",
       "      <td>800658.80</td>\n",
       "    </tr>\n",
       "    <tr>\n",
       "      <th>November</th>\n",
       "      <td>601191.12</td>\n",
       "      <td>NaN</td>\n",
       "    </tr>\n",
       "    <tr>\n",
       "      <th>December</th>\n",
       "      <td>694254.56</td>\n",
       "      <td>NaN</td>\n",
       "    </tr>\n",
       "  </tbody>\n",
       "</table>\n",
       "</div>"
      ],
      "text/plain": [
       "claim_year        2017       2018\n",
       "claim_month                      \n",
       "January      608021.68  721841.74\n",
       "February     631460.12  536459.12\n",
       "March        615580.12  704679.18\n",
       "April        747977.56  542590.06\n",
       "May          546747.18  567728.80\n",
       "June         560145.56  718895.80\n",
       "July         790876.24  588456.30\n",
       "August       431620.12  479682.56\n",
       "September    459481.92  521496.68\n",
       "October      608994.68  800658.80\n",
       "November     601191.12        NaN\n",
       "December     694254.56        NaN"
      ]
     },
     "execution_count": 57,
     "metadata": {},
     "output_type": "execute_result"
    }
   ],
   "source": [
    "final_monthly_trend"
   ]
  },
  {
   "cell_type": "code",
   "execution_count": 58,
   "id": "485be8c8",
   "metadata": {},
   "outputs": [
    {
     "data": {
      "text/plain": [
       "<AxesSubplot:xlabel='claim_month'>"
      ]
     },
     "execution_count": 58,
     "metadata": {},
     "output_type": "execute_result"
    },
    {
     "data": {
      "image/png": "[encoded data removed]",
      "text/plain": [
       "<Figure size 432x288 with 1 Axes>"
      ]
     },
     "metadata": {
      "needs_background": "light"
     },
     "output_type": "display_data"
    }
   ],
   "source": [
    "final_monthly_trend.plot.bar()"
   ]
  },
  {
   "cell_type": "markdown",
   "id": "2607975d",
   "metadata": {},
   "source": [
    "## 15. What is the average claim amount for gender and age categories and suitably represent the above using a facetted bar chart, one facet that represents fraudulent claims and the other for non-fraudulent claims.\n",
    "\n"
   ]
  },
  {
   "cell_type": "code",
   "execution_count": 59,
   "id": "1df302bc",
   "metadata": {},
   "outputs": [],
   "source": [
    "final_new = final[[\"gender\",\"Age_category\",\"fraudulent\",\"claim_amount\"]]\n",
    "final_m_f_claim_fraud = final_new.pivot_table(index=[\"gender\",\"Age_category\"], columns=\"fraudulent\", fill_value=\"claim_amount\",aggfunc=\"sum\")"
   ]
  },
  {
   "cell_type": "code",
   "execution_count": 60,
   "id": "170484d1",
   "metadata": {},
   "outputs": [
    {
     "data": {
      "text/plain": [
       "<AxesSubplot:ylabel='gender,Age_category'>"
      ]
     },
     "execution_count": 60,
     "metadata": {},
     "output_type": "execute_result"
    },
    {
     "data": {
      "image/png": "[encoded data removed]",
      "text/plain": [
       "<Figure size 432x288 with 1 Axes>"
      ]
     },
     "metadata": {
      "needs_background": "light"
     },
     "output_type": "display_data"
    }
   ],
   "source": [
    "final_m_f_claim_fraud.plot.barh()"
   ]
  },
  {
   "cell_type": "markdown",
   "id": "d1aea873",
   "metadata": {},
   "source": [
    "## 16. Is there any similarity in the amount claimed by males and females?\n"
   ]
  },
  {
   "cell_type": "code",
   "execution_count": 61,
   "id": "b22b2a96",
   "metadata": {},
   "outputs": [
    {
     "data": {
      "text/plain": [
       "<AxesSubplot:xlabel='gender'>"
      ]
     },
     "execution_count": 61,
     "metadata": {},
     "output_type": "execute_result"
    },
    {
     "data": {
      "image/png": "[encoded data removed]",
      "text/plain": [
       "<Figure size 432x288 with 1 Axes>"
      ]
     },
     "metadata": {
      "needs_background": "light"
     },
     "output_type": "display_data"
    }
   ],
   "source": [
    "final_new.pivot_table(index=(\"gender\"),columns=\"Age_category\",fill_value=\"claim_amount\",aggfunc=\"sum\").plot.bar()"
   ]
  },
  {
   "cell_type": "code",
   "execution_count": 62,
   "id": "a4aa2c4b",
   "metadata": {},
   "outputs": [],
   "source": [
    "### amount cliamed by male and female in different category are almost similar "
   ]
  },
  {
   "cell_type": "code",
   "execution_count": 63,
   "id": "80f0b547",
   "metadata": {},
   "outputs": [],
   "source": [
    "female_claim = final.claim_amount[final.gender == \"Female\"]\n",
    "male_claim = final.claim_amount[final.gender == \"Male\"]\n"
   ]
  },
  {
   "cell_type": "code",
   "execution_count": 64,
   "id": "7a3ee4f2",
   "metadata": {},
   "outputs": [
    {
     "data": {
      "text/plain": [
       "Ttest_indResult(statistic=0.9602950846673968, pvalue=0.3371224576361618)"
      ]
     },
     "execution_count": 64,
     "metadata": {},
     "output_type": "execute_result"
    }
   ],
   "source": [
    "ss.ttest_ind(a=male_claim, b=female_claim)\n",
    "\n",
    "## 1)  H0 = If avg_male_claim = if avg_female_claim  \n",
    "##     Ha = f avg_male_claim != if avg_female_claim \n",
    "\n",
    "## 2) confidence level --> 95% \n",
    "\n",
    "## 3) criteria ----> as if p_value> 0.05 we can reject H0 and can accept Ha hypothesis , but if p_value < 0.05 we can't \n",
    "## reject H0 hypothesis \n",
    "\n",
    "\n",
    "### p-value is >0.05 we can ignore the null hypothesis and accept alternative hypothesis "
   ]
  },
  {
   "cell_type": "markdown",
   "id": "edc1f72b",
   "metadata": {},
   "source": [
    "## 17. Is there any relationship between age category and segment?\n"
   ]
  },
  {
   "cell_type": "code",
   "execution_count": null,
   "id": "182cf46b",
   "metadata": {},
   "outputs": [],
   "source": [
    "age_segment = pd.crosstab(final.Segment, final.Age_category)"
   ]
  },
  {
   "cell_type": "code",
   "execution_count": 71,
   "id": "32942026",
   "metadata": {},
   "outputs": [
    {
     "name": "stdout",
     "output_type": "stream",
     "text": [
      "(1.2651334835621246, 0.8672627624214679, 4, array([[274.63636364,  16.86363636,  79.5       ],\n",
      "       [267.23376623,  16.40909091,  77.35714286],\n",
      "       [256.12987013,  15.72727273,  74.14285714]]))\n"
     ]
    }
   ],
   "source": [
    "print(ss.chi2_contingency(age_segment))"
   ]
  },
  {
   "cell_type": "code",
   "execution_count": 69,
   "id": "d2ce2b94",
   "metadata": {},
   "outputs": [],
   "source": [
    "## 1)  H0 = 0     there will be no relation between age and segment \n",
    "##     Ha !=0     there will be some relation between age and segment \n",
    "## 2) confidence level --> 95% \n",
    "\n",
    "## 3) criteria ----> as if p_value> 0.05 we can reject H0 and can accept Ha hypothesis , but if p_value < 0.05 we can't \n",
    "## reject H0 hypothesis \n",
    "\n",
    "\n",
    "### so, p-value is >0.05 we can ignore the null hypothesis and accept alternative hypothesis which means age and segment have \n",
    "### strong relationship. "
   ]
  },
  {
   "cell_type": "markdown",
   "id": "a51a5978",
   "metadata": {},
   "source": [
    "## 18. The current year has shown a significant rise in claim amounts as compared to 2016-17 fiscal average which was  10,000.\n"
   ]
  },
  {
   "cell_type": "code",
   "execution_count": 77,
   "id": "dcd6d79c",
   "metadata": {},
   "outputs": [
    {
     "data": {
      "text/plain": [
       "Ttest_1sampResult(statistic=6.151995484223807, pvalue=1.0771184583352468e-09)"
      ]
     },
     "execution_count": 77,
     "metadata": {},
     "output_type": "execute_result"
    }
   ],
   "source": [
    "ss.ttest_1samp(a=final.claim_amount, popmean=10000)"
   ]
  },
  {
   "cell_type": "code",
   "execution_count": 78,
   "id": "2826d779",
   "metadata": {},
   "outputs": [
    {
     "data": {
      "text/plain": [
       "12503.562059369207"
      ]
     },
     "execution_count": 78,
     "metadata": {},
     "output_type": "execute_result"
    }
   ],
   "source": [
    "final.claim_amount.mean()"
   ]
  },
  {
   "cell_type": "code",
   "execution_count": null,
   "id": "87ba6c54",
   "metadata": {},
   "outputs": [],
   "source": [
    "## 1)  H0 = If avg_claim_amount = target_avg\n",
    "##     Ha = If avg_claim_amount != target_avg\n",
    "\n",
    "## 2) confidence level --> 95% \n",
    "\n",
    "## 3) criteria ----> as if p_value> 0.05 we can reject H0 and can accept Ha hypothesis , but if p_value < 0.05 we can't \n",
    "## reject H0 hypothesis \n",
    "\n",
    "\n",
    "### p-value is >0.05 we can ignore the null hypothesis and accept alternative hypothesis,whcih means the hypothisis is true\n",
    "## 2017-18 shows a significant rise in claim amounts as compared to 2016-17 "
   ]
  },
  {
   "cell_type": "markdown",
   "id": "252358c2",
   "metadata": {},
   "source": [
    "## 19. Is there any difference between age groups and insurance claims?"
   ]
  },
  {
   "cell_type": "code",
   "execution_count": 86,
   "id": "4659d4fd",
   "metadata": {},
   "outputs": [],
   "source": [
    "final.Age = final.Age.astype(\"int\")"
   ]
  },
  {
   "cell_type": "code",
   "execution_count": 87,
   "id": "81e68181",
   "metadata": {},
   "outputs": [
    {
     "data": {
      "text/plain": [
       "(-0.0031098556751542996, 0.9187666772012257)"
      ]
     },
     "execution_count": 87,
     "metadata": {},
     "output_type": "execute_result"
    }
   ],
   "source": [
    "ss.pearsonr(final.claim_amount,final.Age)"
   ]
  },
  {
   "cell_type": "code",
   "execution_count": null,
   "id": "71ac4c76",
   "metadata": {},
   "outputs": [],
   "source": [
    "## 1)  H0 = 0     there will be no relation between age and claim_amount\n",
    "##     Ha !=0     there will be some relation between age and claim_amount \n",
    "## 2) confidence level --> 95% \n",
    "\n",
    "## 3) criteria ----> as if p_value> 0.05 we can reject H0 and can accept Ha hypothesis , but if p_value < 0.05 we can't \n",
    "## reject H0 hypothesis \n",
    "\n",
    "\n",
    "### so, p-value is >0.05 we can ignore the null hypothesis and accept alternative hypothesis which means age and claim_amount\n",
    "### have relationship but it have week relationship . "
   ]
  },
  {
   "cell_type": "markdown",
   "id": "431a5e89",
   "metadata": {},
   "source": [
    "## 20. Is there any relationship between total number of policy claims and the claimed amount?\n"
   ]
  },
  {
   "cell_type": "code",
   "execution_count": 91,
   "id": "df02e7ed",
   "metadata": {},
   "outputs": [
    {
     "data": {
      "text/plain": [
       "F_onewayResult(statistic=943.785231669524, pvalue=3.437634144725212e-172)"
      ]
     },
     "execution_count": 91,
     "metadata": {},
     "output_type": "execute_result"
    }
   ],
   "source": [
    "ss.f_oneway(final.total_policy_claims, final.claim_amount)"
   ]
  },
  {
   "cell_type": "code",
   "execution_count": 92,
   "id": "7933b22e",
   "metadata": {},
   "outputs": [],
   "source": [
    "## 1)  H0 = 0     there will be no relation between total policy claim and claim_amount\n",
    "##     Ha !=0     there will be some relation between total policy claim and claim_amount\n",
    "## 2) confidence level --> 95% \n",
    "\n",
    "## 3) criteria ----> as if p_value> 0.05 we can reject H0 and can accept Ha hypothesis , but if p_value < 0.05 we can't \n",
    "## reject H0 hypothesis \n",
    "\n",
    "\n",
    "### so, p-value is >0.05 we can ignore the null hypothesis and accept alternative hypothesis which means total policy claim and claim_amount\n",
    "### have relationship. \n"
   ]
  }
 ],
 "metadata": {
  "kernelspec": {
   "display_name": "Python 3",
   "language": "python",
   "name": "python3"
  },
  "language_info": {
   "codemirror_mode": {
    "name": "ipython",
    "version": 3
   },
   "file_extension": ".py",
   "mimetype": "text/x-python",
   "name": "python",
   "nbconvert_exporter": "python",
   "pygments_lexer": "ipython3",
   "version": "3.8.8"
  }
 },
 "nbformat": 4,
 "nbformat_minor": 5
}
